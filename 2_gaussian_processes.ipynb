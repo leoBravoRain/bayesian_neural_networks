{
 "cells": [
  {
   "cell_type": "code",
   "execution_count": null,
   "metadata": {},
   "outputs": [],
   "source": [
    "%matplotlib notebook\n",
    "import matplotlib.pyplot as plt\n",
    "import numpy as np\n",
    "import torch\n",
    "import pyro"
   ]
  },
  {
   "cell_type": "markdown",
   "metadata": {},
   "source": [
    "# Gaussian process regression for astronomical data\n",
    "\n",
    "Consider the following data"
   ]
  },
  {
   "cell_type": "code",
   "execution_count": null,
   "metadata": {},
   "outputs": [],
   "source": [
    "lc_data = np.loadtxt('../data/rrl.dat').astype('float32')\n",
    "time, mag, err, flag = lc_data.T\n",
    "fig, ax = plt.subplots(1, 2, figsize=(7, 2), tight_layout=True, sharey=True)\n",
    "ax[0].errorbar(time, mag, err, fmt='.');\n",
    "P = 0.51194099999999998\n",
    "phi = np.mod(time, P)/P\n",
    "ax[1].errorbar(phi, mag, err, fmt='.');\n",
    "ax[0].invert_yaxis()\n",
    "ax[0].set_ylabel('Magnitude');"
   ]
  },
  {
   "cell_type": "markdown",
   "metadata": {},
   "source": [
    "This is called a **light curve**: a time series of stellar brightness\n",
    "\n",
    "This particular light curve corresponds to an RR Lyrae star\n",
    "\n",
    "These stars pulsate regularly. The period of this one is 0.512 days\n",
    "\n",
    "The plot on the left is actual light curve. The plot on the right is phase diagram\n",
    "\n",
    "The phase diagram is obtained by \"folding\" the light curve with its given period\n",
    "\n",
    "> The phase diagram shows the behavior of the star over one cycle\n",
    "\n",
    "### Activity\n",
    "\n",
    "Perform a Gaussian process regression over the folded light curve\n",
    "\n",
    "- Select an appropiate kernel (or kernels) and priors for the parameters\n",
    "- Fit the model and predict on `torch.linspace(0, 1, 100)`\n",
    "- Sample 10 folded light curves from the GP and plot them\n",
    "\n",
    "Perform a Gaussian process regression over the actual light curve\n",
    "- Use a periodic kernel and fix the period to the known value\n",
    "- Fit the model and predict on `torch.linspace(55500, 57000, 100)`\n",
    "- Sample 10 light curves from the GP and plot them folded over the period"
   ]
  },
  {
   "cell_type": "code",
   "execution_count": null,
   "metadata": {},
   "outputs": [],
   "source": []
  }
 ],
 "metadata": {
  "kernelspec": {
   "display_name": "Python 3",
   "language": "python",
   "name": "python3"
  },
  "language_info": {
   "codemirror_mode": {
    "name": "ipython",
    "version": 3
   },
   "file_extension": ".py",
   "mimetype": "text/x-python",
   "name": "python",
   "nbconvert_exporter": "python",
   "pygments_lexer": "ipython3",
   "version": "3.7.3"
  }
 },
 "nbformat": 4,
 "nbformat_minor": 2
}
